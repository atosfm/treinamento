{
 "cells": [
  {
   "cell_type": "code",
   "execution_count": 25,
   "metadata": {
    "scrolled": true
   },
   "outputs": [
    {
     "name": "stdout",
     "output_type": "stream",
     "text": [
      "9.72222222222\n"
     ]
    }
   ],
   "source": [
    "for x in range(1):\n",
    "    print(((70000*0.5)/60)/60)\n",
    "\n",
    "dici= {1:\"atos\",2:\"danilo\"}\n",
    "\n"
   ]
  },
  {
   "cell_type": "code",
   "execution_count": 23,
   "metadata": {},
   "outputs": [],
   "source": [
    "array3=[{\"nome\": \"Jose\",\"age\":10},{\"nome\": \"Alberto\",\"age\":90},{\"nome\": \"wagner\",\"age\":50},{\"nome\": \"Jose\",\"age\":10}]"
   ]
  },
  {
   "cell_type": "code",
   "execution_count": 30,
   "metadata": {},
   "outputs": [
    {
     "name": "stdout",
     "output_type": "stream",
     "text": [
      "['Victor', 'Victor', 'Danilo']\n"
     ]
    }
   ],
   "source": [
    "array4 = [\"Victor\",\"Victor\",\"Atos\",\"Danilo\"]\n",
    "array4.pop(2)\n",
    "print (array4)"
   ]
  },
  {
   "cell_type": "code",
   "execution_count": 119,
   "metadata": {},
   "outputs": [
    {
     "name": "stdout",
     "output_type": "stream",
     "text": [
      "['Atos', 'Victor', 'Danilo']\n"
     ]
    }
   ],
   "source": [
    "nomes = [\"Victor\",\"Atos\",\"Victor\",\"Danilo\",\"Danilo\"]\n",
    "for id1 ,nome in enumerate(nomes):\n",
    "    for id2, nome_removido in enumerate(nomes):\n",
    "        if nome_removido == nome and id1 != id2:\n",
    "            nomes.remove(nome_removido)\n",
    "print nomes        \n"
   ]
  },
  {
   "cell_type": "code",
   "execution_count": 130,
   "metadata": {},
   "outputs": [
    {
     "name": "stdout",
     "output_type": "stream",
     "text": [
      "['Victor', 'Atos', 'Danilo']\n"
     ]
    }
   ],
   "source": [
    "nomes = [\"Victor\",\"Atos\",\"Victor\",\"Danilo\",\"Danilo\"]\n",
    "n = []\n",
    "for nome in nomes:\n",
    "    if nome not in n:\n",
    "        n.append(nome)\n",
    "print n"
   ]
  },
  {
   "cell_type": "code",
   "execution_count": 18,
   "metadata": {},
   "outputs": [
    {
     "name": "stdout",
     "output_type": "stream",
     "text": [
      "False\n"
     ]
    },
    {
     "ename": "AttributeError",
     "evalue": "'NoneType' object has no attribute 'replace'",
     "output_type": "error",
     "traceback": [
      "\u001b[1;31m\u001b[0m",
      "\u001b[1;31mAttributeError\u001b[0mTraceback (most recent call last)",
      "\u001b[1;32m<ipython-input-18-edc3646cbaf2>\u001b[0m in \u001b[0;36m<module>\u001b[1;34m()\u001b[0m\n\u001b[0;32m      7\u001b[0m \u001b[0midade\u001b[0m\u001b[1;33m=\u001b[0m\u001b[1;34m\"99\"\u001b[0m\u001b[1;33m\u001b[0m\u001b[0m\n\u001b[0;32m      8\u001b[0m \u001b[1;32mprint\u001b[0m \u001b[1;32mnot\u001b[0m \u001b[0mparam\u001b[0m\u001b[1;33m.\u001b[0m\u001b[0mget\u001b[0m\u001b[1;33m(\u001b[0m\u001b[1;34m'nome'\u001b[0m\u001b[1;33m)\u001b[0m\u001b[1;33m\u001b[0m\u001b[0m\n\u001b[1;32m----> 9\u001b[1;33m \u001b[0mcelular\u001b[0m\u001b[1;33m=\u001b[0m \u001b[0mparam\u001b[0m\u001b[1;33m.\u001b[0m\u001b[0mget\u001b[0m\u001b[1;33m(\u001b[0m\u001b[1;34m'celular'\u001b[0m\u001b[1;33m)\u001b[0m\u001b[1;33m.\u001b[0m\u001b[0mreplace\u001b[0m\u001b[1;33m(\u001b[0m\u001b[1;34m\"-\"\u001b[0m\u001b[1;33m,\u001b[0m\u001b[1;34m\"\"\u001b[0m\u001b[1;33m)\u001b[0m\u001b[1;33m\u001b[0m\u001b[0m\n\u001b[0m\u001b[0;32m     10\u001b[0m \u001b[1;32mprint\u001b[0m \u001b[0mcelular\u001b[0m\u001b[1;33m\u001b[0m\u001b[0m\n\u001b[0;32m     11\u001b[0m \u001b[1;31m#print not idade\u001b[0m\u001b[1;33m\u001b[0m\u001b[1;33m\u001b[0m\u001b[0m\n",
      "\u001b[1;31mAttributeError\u001b[0m: 'NoneType' object has no attribute 'replace'"
     ]
    }
   ],
   "source": [
    "\n",
    "\n",
    "email = 'atos@ciandt.com'\n",
    "\n",
    "#print (email.find('@') )\n",
    "param = {'nome':'atos','email':'atos@ciandt.com','idade':'9'}\n",
    "idade=\"99\"\n",
    "print not param.get('nome')\n",
    "celular= param.get('celular').replace(\"-\",\"\")\n",
    "print celular\n",
    "#print not idade\n",
    "\n",
    "#print len(idade) <=2 and len(idade)>1\n"
   ]
  },
  {
   "cell_type": "code",
   "execution_count": 23,
   "metadata": {},
   "outputs": [
    {
     "name": "stdout",
     "output_type": "stream",
     "text": [
      "99\n"
     ]
    },
    {
     "ename": "Exception",
     "evalue": "celular invalido",
     "output_type": "error",
     "traceback": [
      "\u001b[1;31m\u001b[0m",
      "\u001b[1;31mException\u001b[0mTraceback (most recent call last)",
      "\u001b[1;32m<ipython-input-23-82dfbd4cd445>\u001b[0m in \u001b[0;36m<module>\u001b[1;34m()\u001b[0m\n\u001b[0;32m     21\u001b[0m         \u001b[1;32mraise\u001b[0m \u001b[0mException\u001b[0m\u001b[1;33m(\u001b[0m\u001b[1;34m'nome invalido'\u001b[0m\u001b[1;33m)\u001b[0m\u001b[1;33m\u001b[0m\u001b[0m\n\u001b[0;32m     22\u001b[0m \u001b[1;33m\u001b[0m\u001b[0m\n\u001b[1;32m---> 23\u001b[1;33m \u001b[0mvalida\u001b[0m\u001b[1;33m(\u001b[0m\u001b[1;33m**\u001b[0m\u001b[0mparam\u001b[0m\u001b[1;33m)\u001b[0m\u001b[1;33m\u001b[0m\u001b[0m\n\u001b[0m",
      "\u001b[1;32m<ipython-input-23-82dfbd4cd445>\u001b[0m in \u001b[0;36mvalida\u001b[1;34m(**kwargs)\u001b[0m\n\u001b[0;32m     10\u001b[0m                         \u001b[1;32mprint\u001b[0m \u001b[0mcelular\u001b[0m\u001b[1;33m\u001b[0m\u001b[0m\n\u001b[0;32m     11\u001b[0m                     \u001b[1;32melse\u001b[0m\u001b[1;33m:\u001b[0m\u001b[1;33m\u001b[0m\u001b[0m\n\u001b[1;32m---> 12\u001b[1;33m                         \u001b[1;32mraise\u001b[0m \u001b[0mException\u001b[0m\u001b[1;33m(\u001b[0m\u001b[1;34m'celular invalido'\u001b[0m\u001b[1;33m)\u001b[0m\u001b[1;33m\u001b[0m\u001b[0m\n\u001b[0m\u001b[0;32m     13\u001b[0m                 \u001b[1;32melse\u001b[0m\u001b[1;33m:\u001b[0m\u001b[1;33m\u001b[0m\u001b[0m\n\u001b[0;32m     14\u001b[0m                     \u001b[1;32mraise\u001b[0m \u001b[0mException\u001b[0m\u001b[1;33m(\u001b[0m\u001b[1;34m'celular invalido'\u001b[0m\u001b[1;33m)\u001b[0m\u001b[1;33m\u001b[0m\u001b[0m\n",
      "\u001b[1;31mException\u001b[0m: celular invalido"
     ]
    }
   ],
   "source": [
    "param = {'nome':'atos','email':'atos@ciandt.com','idade':'99','celular':'9999-8888'}\n",
    "def valida(**kwargs):\n",
    "    if (kwargs.get('nome')):\n",
    "        if (kwargs.get('email') and kwargs.get('email').find('@') != -1):\n",
    "            if( kwargs.get('idade') and kwargs.get('idade').isdigit() and len(kwargs.get('idade'))<= 2 ):\n",
    "                print kwargs.get('idade')\n",
    "                if (kwargs.get('celular')):\n",
    "                    celular =  kwargs.get('celular').replace(\"-\",\"\")\n",
    "                    if (celular.isdigit() and len(celular) == 9):\n",
    "                        print celular\n",
    "                    else:\n",
    "                        raise Exception('celular invalido')\n",
    "                else:\n",
    "                    raise Exception('celular invalido')\n",
    "                    \n",
    "            else:\n",
    "                raise Exception('idade invalida')\n",
    "        else:\n",
    "            raise Exception('email invalido')\n",
    "    else:\n",
    "        raise Exception('nome invalido')\n",
    "\n",
    "valida(**param)\n"
   ]
  },
  {
   "cell_type": "code",
   "execution_count": 24,
   "metadata": {},
   "outputs": [
    {
     "name": "stdout",
     "output_type": "stream",
     "text": [
      "aa\n"
     ]
    }
   ],
   "source": [
    "param = {'nome':'atos','email':'atos@ciandt.com','idade':'','celular':''}\n",
    "def valida(**kwargs):\n",
    "    #pdb.set_trace()\n",
    "    if (kwargs.get('nome') is not \"\" or kwargs.get('nome') is not None):\n",
    "        print('aa')\n",
    "        if (kwargs.get('email').find('@') != -1 and kwargs.get('email') is not None):\n",
    "            \n",
    "            if(kwargs.get('idade') is not None):\n",
    "                if (kwargs.get('idade').isdigit() and len(kwargs.get('idade'))<= 2 ):\n",
    "                    print('')\n",
    "        else:\n",
    "            raise Exception('email invalido')\n",
    "    else:\n",
    "        raise Exception('nome invalido')\n",
    "\n",
    "valida(**param)\n"
   ]
  },
  {
   "cell_type": "code",
   "execution_count": null,
   "metadata": {},
   "outputs": [],
   "source": [
    "{}"
   ]
  }
 ],
 "metadata": {
  "kernelspec": {
   "display_name": "Python 2",
   "language": "python",
   "name": "python2"
  },
  "language_info": {
   "codemirror_mode": {
    "name": "ipython",
    "version": 2
   },
   "file_extension": ".py",
   "mimetype": "text/x-python",
   "name": "python",
   "nbconvert_exporter": "python",
   "pygments_lexer": "ipython2",
   "version": "2.7.14"
  }
 },
 "nbformat": 4,
 "nbformat_minor": 2
}

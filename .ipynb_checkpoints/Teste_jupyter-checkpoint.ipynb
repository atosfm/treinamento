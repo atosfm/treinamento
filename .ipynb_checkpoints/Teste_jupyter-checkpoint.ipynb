{
 "cells": [
  {
   "cell_type": "code",
   "execution_count": 25,
   "metadata": {
    "scrolled": true
   },
   "outputs": [
    {
     "name": "stdout",
     "output_type": "stream",
     "text": [
      "9.72222222222\n"
     ]
    }
   ],
   "source": [
    "for x in range(1):\n",
    "    print(((70000*0.5)/60)/60)\n",
    "\n",
    "dici= {1:\"atos\",2:\"danilo\"}\n",
    "\n"
   ]
  },
  {
   "cell_type": "code",
   "execution_count": 23,
   "metadata": {},
   "outputs": [],
   "source": [
    "array3=[{\"nome\": \"Jose\",\"age\":10},{\"nome\": \"Alberto\",\"age\":90},{\"nome\": \"wagner\",\"age\":50},{\"nome\": \"Jose\",\"age\":10}]"
   ]
  },
  {
   "cell_type": "code",
   "execution_count": 30,
   "metadata": {},
   "outputs": [
    {
     "name": "stdout",
     "output_type": "stream",
     "text": [
      "['Victor', 'Victor', 'Danilo']\n"
     ]
    }
   ],
   "source": [
    "array4 = [\"Victor\",\"Victor\",\"Atos\",\"Danilo\"]\n",
    "array4.pop(2)\n",
    "print (array4)"
   ]
  },
  {
   "cell_type": "code",
   "execution_count": 119,
   "metadata": {},
   "outputs": [
    {
     "name": "stdout",
     "output_type": "stream",
     "text": [
      "['Atos', 'Victor', 'Danilo']\n"
     ]
    }
   ],
   "source": [
    "nomes = [\"Victor\",\"Atos\",\"Victor\",\"Danilo\",\"Danilo\"]\n",
    "for id1 ,nome in enumerate(nomes):\n",
    "    for id2, nome_removido in enumerate(nomes):\n",
    "        if nome_removido == nome and id1 != id2:\n",
    "            nomes.remove(nome_removido)\n",
    "print nomes        \n"
   ]
  },
  {
   "cell_type": "code",
   "execution_count": 130,
   "metadata": {},
   "outputs": [
    {
     "name": "stdout",
     "output_type": "stream",
     "text": [
      "['Victor', 'Atos', 'Danilo']\n"
     ]
    }
   ],
   "source": [
    "nomes = [\"Victor\",\"Atos\",\"Victor\",\"Danilo\",\"Danilo\"]\n",
    "n = []\n",
    "for nome in nomes:\n",
    "    if nome not in n:\n",
    "        n.append(nome)\n",
    "print n"
   ]
  },
  {
   "cell_type": "code",
   "execution_count": 263,
   "metadata": {},
   "outputs": [
    {
     "name": "stdout",
     "output_type": "stream",
     "text": [
      "zelda\n",
      "4\n",
      "True\n",
      "True\n"
     ]
    }
   ],
   "source": [
    "print (\"zelda\")\n",
    "\n",
    "email = 'atos@ciandt.com'\n",
    "\n",
    "print (email.find('@') )\n",
    "\n",
    "idade=\"99\"\n",
    "print idade is not None\n",
    "print len(idade) <=2 and len(idade)>1\n"
   ]
  },
  {
   "cell_type": "code",
   "execution_count": null,
   "metadata": {},
   "outputs": [],
   "source": [
    "#import pdb\n",
    "\n",
    "param = {'nome':'atos','email':'atos@ciandt.com','idade':'','celular':''}\n",
    "def valida(**kwargs):\n",
    "    print(\"aaaaaaa\")\n",
    "    pdb.set_trace()\n",
    "    if (kwargs.get('nome') is not \"\" or kwargs.get('nome') is not None):\n",
    "        print('aa')\n",
    "        if (kwargs.get('email').find('@') != -1 and kwargs.get('email') is not None):\n",
    "            if(kwargs.get('idade') is not None):\n",
    "                if (kwargs.get('idade').isdigit() and len(kwargs.get('idade'))<= 2 ):\n",
    "                    print('')\n",
    "        else:\n",
    "            raise Exception('email invalido')\n",
    "    else:\n",
    "        raise Exception('nome invalido')\n",
    "valida(**param)\n"
   ]
  },
  {
   "cell_type": "code",
   "execution_count": null,
   "metadata": {},
   "outputs": [],
   "source": [
    "param = {'nome':'atos','email':'atos@ciandt.com','idade':'','celular':''}\n",
    "def valida(**kwargs):\n",
    "    #pdb.set_trace()\n",
    "    if (kwargs.get('nome') is not \"\" or kwargs.get('nome') is not None):\n",
    "        print('aa')\n",
    "        if (kwargs.get('email').find('@') != -1 and kwargs.get('email') is not None):\n",
    "            \n",
    "            if(kwargs.get('idade') is not None):\n",
    "                if (kwargs.get('idade').isdigit() and len(kwargs.get('idade'))<= 2 ):\n",
    "                    print('')\n",
    "        else:\n",
    "            raise Exception('email invalido')\n",
    "    else:\n",
    "        raise Exception('nome invalido')\n",
    "\n",
    "valida(**param)\n"
   ]
  }
 ],
 "metadata": {
  "kernelspec": {
   "display_name": "Python 2",
   "language": "python",
   "name": "python2"
  },
  "language_info": {
   "codemirror_mode": {
    "name": "ipython",
    "version": 2
   },
   "file_extension": ".py",
   "mimetype": "text/x-python",
   "name": "python",
   "nbconvert_exporter": "python",
   "pygments_lexer": "ipython2",
   "version": "2.7.14"
  }
 },
 "nbformat": 4,
 "nbformat_minor": 2
}
